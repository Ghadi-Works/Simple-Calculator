{
  "nbformat": 4,
  "nbformat_minor": 0,
  "metadata": {
    "colab": {
      "provenance": []
    },
    "kernelspec": {
      "name": "python3",
      "display_name": "Python 3"
    },
    "language_info": {
      "name": "python"
    }
  },
  "cells": [
    {
      "cell_type": "markdown",
      "source": [
        "# Python program for simple calculator"
      ],
      "metadata": {
        "id": "AOCjdiir2IXR"
      }
    },
    {
      "cell_type": "code",
      "execution_count": null,
      "metadata": {
        "id": "DOuyrtBtz07W"
      },
      "outputs": [],
      "source": [
        "print(\"Welcome to Simple Calculater! \\n\")\n",
        "\n",
        "\n",
        "def opr():\n",
        "  print(\"Types of Operations: \\n\" \\\n",
        "        \"1. Addition\\n\" \\\n",
        "        \"2. Subtraction\\n\" \\\n",
        "        \"3. Multiplication\\n\" \\\n",
        "        \"4. Division\\n\" \\\n",
        "        \"5. Modulus\\n\" \\\n",
        "        \"6. Quotient\\n\" \\\n",
        "        \"7. Exponent\\n\")\n",
        "\n",
        "# addition func\n",
        "def add(num1, num2):\n",
        "    return num1 + num2\n",
        "\n",
        "# subtraction func\n",
        "def subtract(num1, num2):\n",
        "    return num1 - num2\n",
        "\n",
        "# multiplication func\n",
        "def multiply(num1, num2):\n",
        "    return num1 * num2\n",
        "\n",
        "# division func\n",
        "def divide(num1, num2):\n",
        "    return num1 / num2\n",
        "\n",
        "def Modulus(num1, num2):\n",
        "    return num1 % num2\n",
        "\n",
        "def Quotient(num1, num2):\n",
        "    return num1 // num2\n",
        "\n",
        "def Exponent(num1, num2):\n",
        "    return num1 ** num2\n",
        "\n",
        "opr()\n",
        "\n",
        "# input from the user\n",
        "select = int(input(\"Select the number of operation:\\n\"))\n",
        "\n",
        "number_1 = float(input(\"Enter first number: \"))\n",
        "number_2 = float(input(\"Enter second number: \"))\n",
        "\n",
        "if select == 1:\n",
        "    print(\"Addition of two numbers is \\n\",number_1, \"+\", number_2, \"=\",\n",
        "                    add(number_1, number_2))\n",
        "\n",
        "elif select == 2:\n",
        "    print(\"Subtraction of two numbers is \\n\",number_1, \"-\", number_2, \"=\",\n",
        "                    subtract(number_1, number_2))\n",
        "\n",
        "elif select == 3:\n",
        "    print(\"Multiplication of two numbers is \\n\",number_1, \"*\", number_2, \"=\",\n",
        "                    multiply(number_1, number_2))\n",
        "\n",
        "elif select == 4:\n",
        "    print(\"Division of two numbers is \\n\", number_1, \"/\", number_2, \"=\",\n",
        "                    divide(number_1, number_2))\n",
        "elif select == 5:\n",
        "    print(\"Modulus of two numbers is \\n\", number_1, \"%\", number_2, \"=\",\n",
        "                    Modulus(number_1, number_2))\n",
        "elif select == 6:\n",
        "    print(\"Quotient of two numbers is \\n\", number_1, \"//\", number_2, \"=\",\n",
        "                    Quotient(number_1, number_2))\n",
        "elif select == 7:\n",
        "    print(\"Exponent of two numbers is \\n\", number_1, \"**\", number_2, \"=\",\n",
        "                    Exponent(number_1, number_2))\n",
        "\n",
        "else:\n",
        "    print(\"Invalid input\")"
      ]
    }
  ]
}